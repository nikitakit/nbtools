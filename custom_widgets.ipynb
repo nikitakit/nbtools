{
 "metadata": {
  "name": "",
  "signature": "sha256:a91e79fd6e557d1c167db7f370f822d823af7d65714494d2b136203df378c65d"
 },
 "nbformat": 3,
 "nbformat_minor": 0,
 "worksheets": [
  {
   "cells": [
    {
     "cell_type": "code",
     "collapsed": false,
     "input": [
      "# Cross-notebook include shim\n",
      "with open(\"/home/nikita/dev/ipython-notebooks/nbtools/nbinclude.ipynb\") as nbinclude_f: # don't rename nbinclude_f\n",
      "    import IPython.nbformat.current\n",
      "    get_ipython().run_cell(IPython.nbformat.current.read(nbinclude_f, 'json').worksheets[0].cells[0].input)"
     ],
     "language": "python",
     "metadata": {},
     "outputs": [],
     "prompt_number": 1
    },
    {
     "cell_type": "markdown",
     "metadata": {},
     "source": [
      "Code here is based on: http://nbviewer.ipython.org/github/ipython/ipython/blob/master/examples/Interactive%20Widgets/Custom%20Widgets.ipynb\n",
      "\n",
      "Link to IPython widgets source: https://github.com/ipython/ipython/tree/master/IPython/html/widgets\n",
      "\n",
      "Link to IPython widgets javascripts: https://github.com/ipython/ipython/tree/f1ad8aa9db9ab3ebcaeafb7c4d1bfc7521c65d55/IPython/html/static/widgets/js"
     ]
    },
    {
     "cell_type": "code",
     "collapsed": false,
     "input": [
      "from __future__ import print_function # For py 2.7 compat\n",
      "\n",
      "from IPython.html import widgets # Widget definitions\n",
      "from IPython.display import display # Used to display widgets in the notebook\n",
      "from IPython.utils.traitlets import Unicode # Used to declare attributes of our widget"
     ],
     "language": "python",
     "metadata": {},
     "outputs": [],
     "prompt_number": 2
    },
    {
     "cell_type": "code",
     "collapsed": false,
     "input": [
      "from IPython.display import HTML, Javascript"
     ],
     "language": "python",
     "metadata": {},
     "outputs": [],
     "prompt_number": 3
    },
    {
     "cell_type": "code",
     "collapsed": false,
     "input": [
      "from IPython.html.widgets.widget_bool import _BoolWidget"
     ],
     "language": "python",
     "metadata": {},
     "outputs": [],
     "prompt_number": 4
    },
    {
     "cell_type": "code",
     "collapsed": false,
     "input": [
      "with open(\"/home/nikita/dev/nbtools/static/gamepad.js\") as f:\n",
      "    display(Javascript(f.read()))"
     ],
     "language": "python",
     "metadata": {},
     "outputs": [
      {
       "javascript": [
        "// TODO:\n",
        "// * code cleanup\n",
        "// * support button mapping / more than one button\n",
        "// * better handling for when gamepads disconnect/reconnect at runtime\n",
        "// * refactor getting gamepads into a function\n",
        "\n",
        "require([\"widgets/js/widget\"], function(WidgetManager) {\n",
        "  function reportGamepadEnabled() {\n",
        "    var gamepadSupportAvailable = navigator.getGamepads ||\n",
        "      !!navigator.webkitGetGamepads ||\n",
        "      !!navigator.webkitGamepads;\n",
        "\n",
        "    var stat= document.getElementById(\"gpenabled\")\n",
        "    if (gamepadSupportAvailable) {\n",
        "      stat.innerHTML = \"yes\"\n",
        "      stat.style.color=\"green\"\n",
        "    } else {\n",
        "      var stat= document.getElementById(\"gpenabled\")\n",
        "      stat.innerHTML = \"no\"\n",
        "      stat.style.color=\"red\"\n",
        "    }\n",
        "  }\n",
        "\n",
        "  function pollGamepads() {\n",
        "    var gamepads = navigator.getGamepads ? navigator.getGamepads() : (navigator.webkitGetGamepads ? navigator.webkitGetGamepads() : []);\n",
        "    for (var i = 0; i < gamepads.length; i++) {\n",
        "      var gp = gamepads[i];\n",
        "      if(gp) {\n",
        "\t\tregisterGamepad(i);\n",
        "        clearInterval(interval);\n",
        "\t\tsetInterval(pollButtons, 50);\n",
        "      }\n",
        "    }\n",
        "  }\n",
        "\n",
        "  var gamepad;\n",
        "  function registerGamepad(i) {\n",
        "\tgamepad = i;\n",
        "  }\n",
        "\n",
        "  var button_cache = {};\n",
        "  function pollButtons() {\n",
        "    var gamepads = navigator.getGamepads ? navigator.getGamepads() : (navigator.webkitGetGamepads ? navigator.webkitGetGamepads() : []);\n",
        "\tvar pad = gamepads[gamepad];\n",
        "\tvar i;\n",
        "    for (i = 0; i < pad.buttons.length; ++i) {\n",
        "\t  var value = pad.buttons[i];\n",
        "\n",
        "\t  if (button_cache[i] !== value) {\n",
        "\t\tnotifyButton(i, value);\n",
        "\t  }\n",
        "\t  button_cache[i] = value;\n",
        "    }\n",
        "  }\n",
        "\n",
        "  var notifiers = {};\n",
        "  function notifyButton(i, value) {\n",
        "\tif (notifiers[i] !== undefined) {\n",
        "\t  notifiers[i](value);\n",
        "\t}\n",
        "  }\n",
        "\n",
        "  function onButton(i, callback) {\n",
        "\tnotifiers[i] = callback;\n",
        "  };\n",
        "\n",
        "  // Assume gamepad events are not available. Use polling\n",
        "  var interval = setInterval(pollGamepads, 500);\n",
        "\n",
        "  /////// begin IPython stuff\n",
        "  var JoystickBoolView = IPython.DOMWidgetView.extend({\n",
        "    render : function(){\n",
        "      // Called when view is rendered.\n",
        "\n",
        "      // This is a single-line horizontal widget\n",
        "      this.$el\n",
        "        .addClass('widget-hbox-single');\n",
        "\n",
        "      // Add a label div, which will contain the description\n",
        "      this.$label = $('<div />')\n",
        "        .addClass('widget-hlabel')\n",
        "        .appendTo(this.$el)\n",
        "        .hide();\n",
        "\n",
        "      // Add a checkbox representing the state\n",
        "      this.$checkbox = $('<input />')\n",
        "        .attr('type', 'checkbox')\n",
        "        .prop('disabled', true)\n",
        "        .appendTo(this.$el);\n",
        "\n",
        "      // Register an event handler with the joystick - TODO\n",
        "      onButton(0, $.proxy(this.handle_value, this));\n",
        "      //register_handler($.proxy(this.handle_value, this));\n",
        "\n",
        "      this.$el_to_style = this.$checkbox; // Set default element to style\n",
        "      this.update(); // Set defaults.\n",
        "    },\n",
        "\n",
        "    handle_value: function(new_value) {\n",
        "      // Handles when the checkbox is clicked.\n",
        "\n",
        "      // Calling model.set will trigger all of the other views of the\n",
        "      // model to update.\n",
        "      this.model.set('value', !!new_value, {updated_view: this});\n",
        "      this.touch();\n",
        "    },\n",
        "\n",
        "    update : function(options){\n",
        "      // Update the contents of this view\n",
        "      //\n",
        "      // Called when the model is changed. The model may have been\n",
        "      // changed by another view or by a state update from the back-end.\n",
        "      this.$checkbox.prop('checked', this.model.get('value'));\n",
        "\n",
        "      if (options === undefined || options.updated_view != this) {\n",
        "        var disabled = this.model.get('disabled');\n",
        "        if (disabled) {\n",
        "          // Remove the gamepad event\n",
        "        } else {\n",
        "          // Re-introduce the gamepad event\n",
        "        }\n",
        "\n",
        "        var description = this.model.get('description');\n",
        "        if (description.trim().length === 0) {\n",
        "          this.$label.hide();\n",
        "        } else {\n",
        "          this.$label.text(description);\n",
        "          MathJax.Hub.Queue([\"Typeset\",MathJax.Hub,this.$label.get(0)]);\n",
        "          this.$label.show();\n",
        "        }\n",
        "      }\n",
        "      return JoystickBoolView.__super__.update.apply(this);\n",
        "    },\n",
        "  });\n",
        "  WidgetManager.register_widget_view('JoystickBoolView', JoystickBoolView);\n",
        "});\n"
       ],
       "metadata": {},
       "output_type": "display_data",
       "text": [
        "<IPython.core.display.Javascript at 0x2d6e5d0>"
       ]
      }
     ],
     "prompt_number": 5
    },
    {
     "cell_type": "code",
     "collapsed": false,
     "input": [
      "class JoystickBoolWidget(_BoolWidget):\n",
      "    _view_name = Unicode('JoystickBoolView', sync=True)"
     ],
     "language": "python",
     "metadata": {},
     "outputs": [],
     "prompt_number": 6
    },
    {
     "cell_type": "code",
     "collapsed": false,
     "input": [
      "w = JoystickBoolWidget(description=\"x\")\n",
      "w"
     ],
     "language": "python",
     "metadata": {},
     "outputs": [],
     "prompt_number": 7
    },
    {
     "cell_type": "code",
     "collapsed": false,
     "input": [
      "def foo(x):\n",
      "    print(x)"
     ],
     "language": "python",
     "metadata": {},
     "outputs": []
    },
    {
     "cell_type": "code",
     "collapsed": false,
     "input": [
      "widgets.interact(foo, x=w)"
     ],
     "language": "python",
     "metadata": {},
     "outputs": []
    },
    {
     "cell_type": "code",
     "collapsed": false,
     "input": [],
     "language": "python",
     "metadata": {},
     "outputs": []
    }
   ],
   "metadata": {}
  }
 ]
}